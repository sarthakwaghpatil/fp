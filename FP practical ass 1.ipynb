{
 "cells": [
  {
   "cell_type": "code",
   "execution_count": 3,
   "id": "2fffc8eb",
   "metadata": {},
   "outputs": [],
   "source": [
    "#Q1 write  a simple python program to create a list of 'n' integers.\n",
    "#Find all prime numbers from the above  created list and store in a separate list. \n",
    "#display both list\n",
    "\n"
   ]
  },
  {
   "cell_type": "code",
   "execution_count": 4,
   "id": "34c4df0f",
   "metadata": {},
   "outputs": [
    {
     "name": "stdout",
     "output_type": "stream",
     "text": [
      "Enter the value of n: 2\n",
      "List of integers: [1, 2]\n",
      "Prime numbers within the list: [2]\n"
     ]
    }
   ],
   "source": [
    "def is_prime(num):\n",
    "    if num < 2:\n",
    "        return False\n",
    "    for i in range(2, int(num**0.5) + 1):\n",
    "        if num % i == 0:\n",
    "            return False\n",
    "    return True\n",
    "\n",
    "def find_primes_in_list(integer_list):\n",
    "    prime_numbers = []\n",
    "    for num in integer_list:\n",
    "        if is_prime(num):\n",
    "            prime_numbers.append(num)\n",
    "    return prime_numbers\n",
    "\n",
    "def main():\n",
    "    n = int(input(\"Enter the value of n: \"))\n",
    "    integer_list = list(range(1, n+1))\n",
    "    prime_numbers = find_primes_in_list(integer_list)\n",
    "    \n",
    "    print(\"List of integers:\", integer_list)\n",
    "    print(\"Prime numbers within the list:\", prime_numbers)\n",
    "\n",
    "if __name__ == \"__main__\":\n",
    "    main()\n"
   ]
  },
  {
   "cell_type": "code",
   "execution_count": 5,
   "id": "cda24f5e",
   "metadata": {},
   "outputs": [],
   "source": [
    "# Q2 Write a python  program to create a list of ‘n’ integers and find their median "
   ]
  },
  {
   "cell_type": "code",
   "execution_count": 6,
   "id": "29009fe2",
   "metadata": {},
   "outputs": [
    {
     "name": "stdout",
     "output_type": "stream",
     "text": [
      "Enter the number of integers : 2\n",
      "Enter integer 1: 20\n",
      "[20] is your given list: \n",
      "Enter integer 2: 40\n",
      "[20, 40] is your given list: \n",
      "The median of the list is: 30.0\n"
     ]
    }
   ],
   "source": [
    "def find_median(numbers):\n",
    "    numbers.sort()\n",
    "    n = len(numbers)\n",
    "    if n % 2 == 0:\n",
    "        median = (numbers[n // 2 - 1] + numbers[n // 2]) / 2\n",
    "    else:\n",
    "        median = numbers[n // 2]\n",
    "    return median\n",
    "\n",
    "def main():\n",
    "    n = int(input(\"Enter the number of integers : \"))\n",
    "    l = list()\n",
    "    \n",
    "\n",
    "    for i in range(n):\n",
    "        num = int(input(f\"Enter integer {i+1}: \"))\n",
    "        l.append(num)\n",
    "        \n",
    "        print(l, \"is your given list: \")\n",
    "        l.sort()\n",
    "\n",
    "    median = find_median(l)\n",
    "    print(\"The median of the list is:\", median)\n",
    "\n",
    "if __name__ == \"__main__\":\n",
    "    main()\n"
   ]
  },
  {
   "cell_type": "code",
   "execution_count": 7,
   "id": "4938d119",
   "metadata": {},
   "outputs": [],
   "source": [
    "# Q3 Write a  simple python program to accept the strings which contains all vowels\n"
   ]
  },
  {
   "cell_type": "code",
   "execution_count": 8,
   "id": "68221be6",
   "metadata": {},
   "outputs": [
    {
     "name": "stdout",
     "output_type": "stream",
     "text": [
      "Enter a string: aeiourt\n",
      "The string contains all vowels.\n"
     ]
    }
   ],
   "source": [
    "def contains_all_vowels(s):\n",
    "    vowels = {'a', 'e', 'i', 'o', 'u'}\n",
    "    return vowels.issubset(set(s.lower()))\n",
    "\n",
    "def main(): \n",
    "    input_string = input(\"Enter a string: \")\n",
    "    if contains_all_vowels(input_string):\n",
    "        print(\"The string contains all vowels.\")\n",
    "    else:\n",
    "        print(\"The string does not contain all vowels.\")\n",
    "\n",
    "if __name__ == \"__main__\":\n",
    "    main()\n"
   ]
  },
  {
   "cell_type": "code",
   "execution_count": 9,
   "id": "dda638d9",
   "metadata": {},
   "outputs": [],
   "source": [
    "# Q4 Q4.Write a Python program that accepts a sentence and find the number of words, digits, \n",
    "#uppercase letters and lowercase letters"
   ]
  },
  {
   "cell_type": "code",
   "execution_count": 10,
   "id": "b7e9cc83",
   "metadata": {},
   "outputs": [
    {
     "name": "stdout",
     "output_type": "stream",
     "text": [
      "Enter a sentence: gghuifyyuif\n",
      "No of Words:  1\n",
      "No of Digits:  0\n",
      "No of Uppercase letters:  0\n",
      "No of Lowercase letters:  11\n"
     ]
    }
   ],
   "source": [
    "s= input(\"Enter a sentence: \")\n",
    "w, d, u, l = 0, 0, 0, 0\n",
    "l_w = s.split()\n",
    "w = len(l_w)\n",
    "for c in s:\n",
    "    if c.isdigit():\n",
    "        d = d + 1\n",
    "    elif c.isupper():\n",
    "        u = u + 1\n",
    "    elif c.islower():\n",
    "        l = l + 1\n",
    "\n",
    "print (\"No of Words: \", w)\n",
    "print (\"No of Digits: \", d)\n",
    "print (\"No of Uppercase letters: \", u)\n",
    "print (\"No of Lowercase letters: \", l)"
   ]
  },
  {
   "cell_type": "code",
   "execution_count": null,
   "id": "916c0d36",
   "metadata": {},
   "outputs": [],
   "source": [
    "#Q5.Write a python program to accept a string and a character to be deleted from user. \n",
    "#Delete all occurrences of the character from string and display string"
   ]
  },
  {
   "cell_type": "code",
   "execution_count": 6,
   "id": "c952e6cc",
   "metadata": {},
   "outputs": [
    {
     "name": "stdout",
     "output_type": "stream",
     "text": [
      "Enter a string: asnfytkgk\n",
      "Enter a character to delete: k\n",
      "Resulting string after deletion: asnfytg\n"
     ]
    }
   ],
   "source": [
    "def delete_char_recursive(string, char):\n",
    "    if not string:\n",
    "        return \"\"\n",
    "\n",
    "    if string[0] == char:\n",
    "        return delete_char_recursive(string[1:], char)\n",
    "    else:\n",
    "        return string[0] + delete_char_recursive(string[1:], char)\n",
    "\n",
    "user_string = input(\"Enter a string: \")\n",
    "char_to_delete = input(\"Enter a character to delete: \")\n",
    "\n",
    "result_string = delete_char_recursive(user_string, char_to_delete)\n",
    "print(\"Resulting string after deletion:\", result_string)"
   ]
  },
  {
   "cell_type": "code",
   "execution_count": null,
   "id": "98a82bd2",
   "metadata": {},
   "outputs": [],
   "source": [
    "#Q6 similarity brtween tow strings"
   ]
  },
  {
   "cell_type": "code",
   "execution_count": 2,
   "id": "1849881b",
   "metadata": {},
   "outputs": [
    {
     "name": "stdout",
     "output_type": "stream",
     "text": [
      "The similarity between 2 strings is : 0.5555555555555556\n"
     ]
    }
   ],
   "source": [
    "# Python3 code to demonstrate \n",
    "# similarity between strings\n",
    "# using SequenceMatcher.ratio()\n",
    "\n",
    "from difflib import SequenceMatcher\n",
    " \n",
    "# Utility function to compute similarity\n",
    "\n",
    "def similar(str1, str2):\n",
    "\n",
    "    return SequenceMatcher(None, str1, str2).ratio()\n",
    " \n",
    "# Initializing strings\n",
    "\n",
    "test_string1 = 'Geeksforgeeks'\n",
    "\n",
    "test_string2 = 'Geeks'\n",
    " \n",
    "# using SequenceMatcher.ratio()\n",
    "# similarity between strings\n",
    "\n",
    "res = similar(test_string1, test_string2)\n",
    " \n",
    "# printing the result\n",
    "\n",
    "print (\"The similarity between 2 strings is : \" + str(res))"
   ]
  },
  {
   "cell_type": "code",
   "execution_count": 1,
   "id": "d7cb6513",
   "metadata": {},
   "outputs": [],
   "source": [
    "#Q7 Write a Python program to perform following operations1) Convert a tuple into string. Consider following tuple\n",
    "#t = (‘c’, ‘o’, ‘m’, ‘p’, ‘u’, ‘t’, ‘e’, ‘r’, ‘ ‘, ‘s’, ‘c’, ‘i’, ‘e’, ’n’, ’c’, ’e’)Expected output: computer science\n",
    "#2) Find the occurrences of items in a tuple`t = (2, 34, 45, 6, 7, 2, 4, 5, 78, 34, 2)\n",
    "#Input : Example – find occurrences of ‘2’in given tuple Expected output:3\n",
    "#3) Copy odd and even numbers in separate tuples t = (22, 55, 62, 79, 34, 235, 819)"
   ]
  },
  {
   "cell_type": "code",
   "execution_count": 11,
   "id": "9e3a1cf8",
   "metadata": {},
   "outputs": [
    {
     "name": "stdout",
     "output_type": "stream",
     "text": [
      "1) Converted tuple to string: computer science\n",
      "2) Occurrences of 2 in the tuple: 3\n",
      "3) Odd numbers: (55, 79, 235, 819)\n",
      "   Even numbers: (22, 62, 34)\n"
     ]
    }
   ],
   "source": [
    "# Convert a tuple into string\n",
    "t1 = ('c', 'o', 'm', 'p', 'u', 't', 'e', 'r', ' ', 's', 'c', 'i', 'e', 'n', 'c', 'e')\n",
    "string_result = ''.join(t1)\n",
    "print(\"1) Converted tuple to string:\", string_result)\n",
    "\n",
    "# Find the occurrences of items in a tuple\n",
    "t2 = (2, 34, 45, 6, 7, 2, 4, 5, 78, 34, 2)\n",
    "item_to_find = 2\n",
    "occurrences = t2.count(item_to_find)\n",
    "print(\"2) Occurrences of\", item_to_find, \"in the tuple:\", occurrences)\n",
    "\n",
    "# Copy odd and even numbers in separate tuples\n",
    "t3 = (22, 55, 62, 79, 34, 235, 819)\n",
    "odd_numbers = tuple(num for num in t3 if num % 2 != 0)\n",
    "even_numbers = tuple(num for num in t3 if num % 2 == 0)\n",
    "print(\"3) Odd numbers:\", odd_numbers)\n",
    "print(\"   Even numbers:\", even_numbers)"
   ]
  },
  {
   "cell_type": "code",
   "execution_count": 12,
   "id": "9ad655ad",
   "metadata": {},
   "outputs": [],
   "source": [
    "# Q8 Write a Python program to count the number of characters (character frequency) in a \n",
    "#string and store them in a dictionary data structure\n",
    "#Sample String: ‘Wednesday'"
   ]
  },
  {
   "cell_type": "code",
   "execution_count": 13,
   "id": "0ad07c2e",
   "metadata": {},
   "outputs": [
    {
     "name": "stdout",
     "output_type": "stream",
     "text": [
      "Character frequencies in the string:\n",
      "W: 1\n",
      "e: 2\n",
      "d: 2\n",
      "n: 1\n",
      "s: 1\n",
      "a: 1\n",
      "y: 1\n"
     ]
    }
   ],
   "source": [
    "# Sample String\n",
    "sample_string = 'Wednesday'\n",
    "\n",
    "# Dictionary to store character frequencies\n",
    "char_freq = {}\n",
    "\n",
    "# Counting character frequencies\n",
    "for char in sample_string:\n",
    "    if char in char_freq:\n",
    "        char_freq[char] += 1\n",
    "    else:\n",
    "        char_freq[char] = 1\n",
    "\n",
    "# Printing character frequencies\n",
    "print(\"Character frequencies in the string:\")\n",
    "for char, freq in char_freq.items():\n",
    "    print(f\"{char}: {freq}\")"
   ]
  },
  {
   "cell_type": "code",
   "execution_count": 14,
   "id": "b1ab43e6",
   "metadata": {},
   "outputs": [],
   "source": [
    "#Q9 .Write a python program to double a given number and add two numbers using lambda()."
   ]
  },
  {
   "cell_type": "code",
   "execution_count": 16,
   "id": "5ca78caa",
   "metadata": {},
   "outputs": [
    {
     "name": "stdout",
     "output_type": "stream",
     "text": [
      "Enter a number: 6\n",
      "Enter the first number to add: 8\n",
      "Enter the second number to add: 8\n",
      "Doubled number: 12\n",
      "Sum of the two numbers: 16\n"
     ]
    }
   ],
   "source": [
    "# Define lambda functions\n",
    "double = lambda x: x * 2\n",
    "add = lambda a, b: a + b\n",
    "\n",
    "# Input\n",
    "num = int(input(\"Enter a number: \"))\n",
    "num1 = int(input(\"Enter the first number to add: \"))\n",
    "num2 = int(input(\"Enter the second number to add: \"))\n",
    "\n",
    "result = add(num1, num2)\n",
    "\n",
    "print(\"Doubled number:\", double(num))\n",
    "print(\"Sum of the two numbers:\", result)\n"
   ]
  },
  {
   "cell_type": "code",
   "execution_count": 17,
   "id": "0f661303",
   "metadata": {},
   "outputs": [],
   "source": [
    "# ASS Q1 Consider following two lists:a = [1, 2, 2, 3, 5, 8, 13, 21, 34, 55, 89]b = [1, 2, 3, 4, 5, 6, 7, 8, 9, 10, 11, 12, 13]\n",
    "#Write a python program that returns a list that contains only the elements \n",
    "#that are common between the lists (without duplicates). Make sure your program works ontwo lists of different sizes."
   ]
  },
  {
   "cell_type": "code",
   "execution_count": 18,
   "id": "ec4110f8",
   "metadata": {},
   "outputs": [
    {
     "name": "stdout",
     "output_type": "stream",
     "text": [
      "[1, 2, 3, 5, 8, 13]\n"
     ]
    }
   ],
   "source": [
    "a = [1, 2, 2, 3, 5, 8, 13, 21, 34, 55, 89]\n",
    "b = [1, 2, 3, 4, 5, 6, 7, 8, 9, 10, 11, 12, 13]\n",
    "\n",
    "common_elements = list(set(a).intersection(b))\n",
    "print(common_elements)"
   ]
  },
  {
   "cell_type": "code",
   "execution_count": null,
   "id": "c0a4e8b7",
   "metadata": {},
   "outputs": [],
   "source": [
    "#Accept a two number from user ‘x’ and ‘y’. Write a simple  python program, which will find all such numbers \n",
    "#between ‘x’ and ‘y’ (both included) such that each digit of thenumber is an even number.\n",
    "#The numbers obtained should be stored in a list and display that list."
   ]
  },
  {
   "cell_type": "code",
   "execution_count": 19,
   "id": "e8480f44",
   "metadata": {},
   "outputs": [
    {
     "name": "stdout",
     "output_type": "stream",
     "text": [
      "Enter the start of range: 1\n",
      "Enter the end of range: 20\n",
      "2 4 6 8 10 12 14 16 18 20 "
     ]
    }
   ],
   "source": [
    " \n",
    "x = int(input(\"Enter the start of range: \"))\n",
    "\n",
    "y = int(input(\"Enter the end of range: \"))\n",
    " \n",
    "for num in range(x, y + 1):\n",
    " \n",
    "    if num % 2 == 0:\n",
    "\n",
    "        print(num, end=\" \")"
   ]
  },
  {
   "cell_type": "code",
   "execution_count": 20,
   "id": "99d57f45",
   "metadata": {},
   "outputs": [
    {
     "name": "stdout",
     "output_type": "stream",
     "text": [
      "Enter the lower limit 'x': 1\n",
      "Enter the upper limit 'y': 10\n",
      "Numbers between 1 and 10 with all even digits: [2, 4, 6, 8, 10]\n"
     ]
    }
   ],
   "source": [
    "def are_all_digits_even(num):\n",
    "    for digit in str(num):\n",
    "        if int(digit) % 2 == 0:\n",
    "            return True\n",
    "    return False\n",
    "\n",
    "def find_even_digit_numbers(x, y):\n",
    "    result = []\n",
    "    for i in range(x, y+1):\n",
    "        if are_all_digits_even(i):\n",
    "            result.append(i)\n",
    "    return result\n",
    "\n",
    "x = int(input(\"Enter the lower limit 'x': \"))\n",
    "y = int(input(\"Enter the upper limit 'y': \"))\n",
    "\n",
    "result = find_even_digit_numbers(x, y) \n",
    "print(\"Numbers between {} and {} with all even digits: {}\".format(x, y, result))\n"
   ]
  },
  {
   "cell_type": "code",
   "execution_count": null,
   "id": "6bffc189",
   "metadata": {},
   "outputs": [],
   "source": [
    "# q5 Write a python program which can filter even numbers in a list by using filterfunction.\n",
    "#The list is: [11,222,334,413,5,666,711,890,9,120]."
   ]
  },
  {
   "cell_type": "code",
   "execution_count": 21,
   "id": "e839f1df",
   "metadata": {},
   "outputs": [
    {
     "name": "stdout",
     "output_type": "stream",
     "text": [
      "Even numbers: [222, 334, 666, 890, 120]\n"
     ]
    }
   ],
   "source": [
    "# Define the list\n",
    "numbers = [11, 222, 334, 413, 5, 666, 711, 890, 9, 120]\n",
    "\n",
    "even_numbers = []\n",
    "\n",
    "for num in numbers:\n",
    "    if num % 2 == 0:\n",
    "        even_numbers.append(num)\n",
    "\n",
    "print(\"Even numbers:\", even_numbers)"
   ]
  },
  {
   "cell_type": "code",
   "execution_count": 22,
   "id": "af7cae85",
   "metadata": {},
   "outputs": [
    {
     "name": "stdout",
     "output_type": "stream",
     "text": [
      "Even numbers in the list: [222, 334, 666, 890, 120]\n"
     ]
    }
   ],
   "source": [
    "\n",
    "num_list = [11, 222, 334, 413, 5, 666, 711, 890, 9, 120]\n",
    "\n",
    "def is_even(num):\n",
    "    return num % 2 == 0\n",
    "\n",
    "even_numbers = list(filter(is_even, num_list))\n",
    "\n",
    "print(\"Even numbers in the list:\", even_numbers)\n"
   ]
  },
  {
   "cell_type": "code",
   "execution_count": null,
   "id": "a9db85a9",
   "metadata": {},
   "outputs": [],
   "source": [
    "# Q 11 Write a Python program to count the number of characters (character frequency) in astring and store them \n",
    "#in a dictionary data structureSample String: ‘facebook.com'\n",
    "#Expected Result: {'f': 1, 'a': 1, 'c': 2, 'e': 1, ‘b’:1, ‘o’:3, ‘k’:1,’.’: 1, 'm': 1}\n"
   ]
  },
  {
   "cell_type": "code",
   "execution_count": 3,
   "id": "c9ef2ae8",
   "metadata": {},
   "outputs": [
    {
     "name": "stdout",
     "output_type": "stream",
     "text": [
      "{'f': 1, 'a': 1, 'c': 2, 'e': 1, 'b': 1, 'o': 3, 'k': 1, '.': 1, 'm': 1}\n"
     ]
    }
   ],
   "source": [
    "def count_characters(string):\n",
    "    char_frequency = {}  # Create an empty dictionary to store character frequencies\n",
    "\n",
    "    for char in string:\n",
    "        if char in char_frequency:\n",
    "            char_frequency[char] += 1  \n",
    "        else:\n",
    "            char_frequency[char] = 1 \n",
    "\n",
    "    return char_frequency\n",
    "\n",
    "sample_string = 'facebook.com'\n",
    "result = count_characters(sample_string)\n",
    "print(result) "
   ]
  },
  {
   "cell_type": "code",
   "execution_count": null,
   "id": "cebcf48f",
   "metadata": {},
   "outputs": [],
   "source": [
    "# Q12  Write a python program to perform following operations\n",
    "#a) Calculate the sum of squares of the following list elements (use map)L1 = [1, 3, 5, 7, 9]\n",
    "#b) Perform the sum of non-negative numbersL1=[1, 3, -5, 7, -9, 11]\n",
    "#c) Merge two python directoriesInput:d1={1:’one’, 2:’two’}d2={10:’ten’, 20:’twenty’}Expected Output:\n",
    "#d={1:’one’, 2:’two’, 10:’ten’, 20:’twenty’}\n",
    "#d) Count the number of values of inner lists (use map)L1 = [ [2, 3, 5, 7], [11,13,17,19], [23, 29], [31,37, 41] ]\n",
    "#Expected output: [4, 4, 2, 3]\n"
   ]
  },
  {
   "cell_type": "code",
   "execution_count": 4,
   "id": "daddb723",
   "metadata": {},
   "outputs": [
    {
     "name": "stdout",
     "output_type": "stream",
     "text": [
      "Sum of squares: 165\n",
      "Sum of non-negative numbers: 22\n",
      "Merged dictionary: {1: 'one', 2: 'two', 10: 'ten', 20: 'twenty'}\n",
      "Number of values of inner lists: [4, 4, 2, 3]\n"
     ]
    }
   ],
   "source": [
    "from functools import reduce\n",
    "\n",
    "L1 = [1, 3, 5, 7, 9]\n",
    "sum_of_squares = sum(map(lambda x: x**2, L1))\n",
    "print(\"Sum of squares:\", sum_of_squares)\n",
    "\n",
    "# b) \n",
    "L2 = [1, 3, -5, 7, -9, 11]\n",
    "non_negative_sum = sum(filter(lambda x: x >= 0, L2))\n",
    "print(\"Sum of non-negative numbers:\", non_negative_sum)\n",
    "\n",
    "# c) \n",
    "d1 = {1: 'one', 2: 'two'}\n",
    "d2 = {10: 'ten', 20: 'twenty'}\n",
    "merged_dict = {**d1, **d2}\n",
    "print(\"Merged dictionary:\", merged_dict)\n",
    "\n",
    "# d) \n",
    "L3 = [[2, 3, 5, 7], [11, 13, 17, 19], [23, 29], [31, 37, 41]]\n",
    "num_values_inner_lists = list(map(len, L3))\n",
    "print(\"Number of values of inner lists:\", num_values_inner_lists)"
   ]
  },
  {
   "cell_type": "code",
   "execution_count": null,
   "id": "274d2217",
   "metadata": {},
   "outputs": [],
   "source": [
    "# Q13 Write a Python program that asks the user to enter a text and return him a dictionary whose keys are the words\n",
    "# of the text entered and the values are the reverse of thewords that make up the text.\n",
    "# Example for the text T = \"python is easy\", the programmust return the dictionary:\n",
    "# d = {python: 'nohtyp', 'is': 'si', 'easy': 'ysae'}\n"
   ]
  },
  {
   "cell_type": "code",
   "execution_count": 6,
   "id": "19f524ca",
   "metadata": {},
   "outputs": [
    {
     "name": "stdout",
     "output_type": "stream",
     "text": [
      "Enter a text: tejas\n",
      "{'tejas': 'sajet'}\n"
     ]
    }
   ],
   "source": [
    "\n",
    "def reverse_words(text):\n",
    "    words = text.split()\n",
    "    reversed_dict = {word: word[::-1] for word in words}\n",
    "    return reversed_dict\n",
    "\n",
    "text = input(\"Enter a text: \")\n",
    "result = reverse_words(text)\n",
    "print(result)"
   ]
  },
  {
   "cell_type": "code",
   "execution_count": null,
   "id": "9446d0c0",
   "metadata": {},
   "outputs": [],
   "source": [
    "# Q14  Write a program in Python that asks the user to enter ten integers of their choice andreturn them a dictionary \n",
    "#whose keys are the integers entered and whose values are thelists of divisors of the numbers entered.\n",
    "#Example if the user enters the numbers: 2, 7,11, 5, 3, 19, 14, 9, 1, 4, the program returns the dictionary:\n",
    "# d = {2: [1,2], 7: [1,7], 14: [1,2,7,14], 9: [1,3,9], 11: [1,11], 5: [1,5],3: [1,3], 19: [1,19], 1: [1], 4: [1,2,4]}\n"
   ]
  },
  {
   "cell_type": "code",
   "execution_count": 2,
   "id": "6be22920",
   "metadata": {},
   "outputs": [
    {
     "name": "stdout",
     "output_type": "stream",
     "text": [
      "Enter an integer: 2\n",
      "Enter an integer: 7\n",
      "Enter an integer: 11\n",
      "Enter an integer: 5\n",
      "Enter an integer: 3\n",
      "Enter an integer: 19\n",
      "Enter an integer: 14\n",
      "Enter an integer: 9\n",
      "Enter an integer: 1\n",
      "Enter an integer: 4\n",
      "Resulting dictionary: {2: [1, 2], 7: [1, 7], 11: [1, 11], 5: [1, 5], 3: [1, 3], 19: [1, 19], 14: [1, 2, 7, 14], 9: [1, 3, 9], 1: [1], 4: [1, 2, 4]}\n"
     ]
    }
   ],
   "source": [
    "def get_divisors(num):\n",
    "    return [i for i in range(1, num + 1) if num % i == 0]\n",
    "\n",
    "user_numbers = [int(input(\"Enter an integer: \")) for _ in range(10)]\n",
    "result_dict = {num: get_divisors(num) for num in user_numbers}\n",
    "\n",
    "print(\"Resulting dictionary:\", result_dict)"
   ]
  },
  {
   "cell_type": "code",
   "execution_count": null,
   "id": "68435e06",
   "metadata": {},
   "outputs": [],
   "source": []
  }
 ],
 "metadata": {
  "kernelspec": {
   "display_name": "Python 3 (ipykernel)",
   "language": "python",
   "name": "python3"
  },
  "language_info": {
   "codemirror_mode": {
    "name": "ipython",
    "version": 3
   },
   "file_extension": ".py",
   "mimetype": "text/x-python",
   "name": "python",
   "nbconvert_exporter": "python",
   "pygments_lexer": "ipython3",
   "version": "3.9.7"
  }
 },
 "nbformat": 4,
 "nbformat_minor": 5
}
