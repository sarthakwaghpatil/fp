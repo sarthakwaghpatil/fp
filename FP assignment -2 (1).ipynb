{
 "cells": [
  {
   "cell_type": "code",
   "execution_count": 3,
   "id": "cb13a3db",
   "metadata": {},
   "outputs": [
    {
     "name": "stdout",
     "output_type": "stream",
     "text": [
      "Enter the list separated by spaces:1 2 3 4 6 6 8 8 9 9 \n",
      "Duplicates in the list: ['6', '9', '8']\n"
     ]
    }
   ],
   "source": [
    "#q1 Write a python function to find all duplicates in the list\n",
    "\n",
    "def find_duplicates(lst):\n",
    "    seen = set()\n",
    "    duplicates = set()\n",
    "    \n",
    "    for item in lst:\n",
    "        if item in seen:\n",
    "            duplicates.add(item)\n",
    "        else:\n",
    "            seen.add(item)\n",
    "    return list(duplicates)\n",
    "\n",
    "user_input = input(\"Enter the list separated by spaces:\").split()\n",
    "duplicates = find_duplicates(user_input)\n",
    "print(\"Duplicates in the list:\",duplicates)"
   ]
  },
  {
   "cell_type": "code",
   "execution_count": null,
   "id": "7e1b145e",
   "metadata": {},
   "outputs": [],
   "source": [
    "#q2 Write a python program to create a list, find largest of n numbers of a List. Write function to find largest number."
   ]
  },
  {
   "cell_type": "code",
   "execution_count": 5,
   "id": "21a21535",
   "metadata": {},
   "outputs": [
    {
     "name": "stdout",
     "output_type": "stream",
     "text": [
      "Enter the number of elements in the list:4\n",
      "Enter number 1:33 \n",
      "Enter number 2:66\n",
      "Enter number 3:99\n",
      "Enter number 4:2\n",
      "the largest number in the list is: 99.0\n"
     ]
    }
   ],
   "source": [
    "def find_largest(numbers):\n",
    "    return max(numbers)\n",
    "num_list = [float(input(f\"Enter number {i+1}:\"))\n",
    "            for i in range(int(input(\"Enter the number of elements in the list:\")))]\n",
    "\n",
    "largest_number = find_largest(num_list)\n",
    "\n",
    "print(\"the largest number in the list is:\",largest_number)"
   ]
  },
  {
   "cell_type": "code",
   "execution_count": null,
   "id": "3ed64beb",
   "metadata": {},
   "outputs": [],
   "source": [
    "#Q3 Write a python function to find all the unique elements of a list."
   ]
  },
  {
   "cell_type": "code",
   "execution_count": 11,
   "id": "156000fe",
   "metadata": {},
   "outputs": [
    {
     "name": "stdout",
     "output_type": "stream",
     "text": [
      "Enter elements:1,2,5,5,6\n",
      "[',', '5', '1', '2', '6']\n"
     ]
    }
   ],
   "source": [
    "def find_unique_elements(lst):\n",
    "    return list(set(lst))\n",
    "\n",
    "my_list=input(\"Enter elements:\")\n",
    "unique_elements= find_unique_elements(my_list)\n",
    "print(unique_elements)"
   ]
  },
  {
   "cell_type": "code",
   "execution_count": null,
   "id": "81649835",
   "metadata": {},
   "outputs": [],
   "source": [
    "#Q4 Write a python program to calculate a square of all elements of a list. Use map() function."
   ]
  },
  {
   "cell_type": "code",
   "execution_count": 19,
   "id": "cfc7b513",
   "metadata": {},
   "outputs": [
    {
     "name": "stdout",
     "output_type": "stream",
     "text": [
      "[1, 4, 9, 16, 25]\n"
     ]
    }
   ],
   "source": [
    "def square(x):\n",
    "    return x ** 2\n",
    "\n",
    "numbers = [1,2,3,4,5]\n",
    "\n",
    "squared_numbers = list(map(square,numbers))\n",
    "print(squared_numbers)"
   ]
  },
  {
   "cell_type": "code",
   "execution_count": 6,
   "id": "0372fd66",
   "metadata": {},
   "outputs": [
    {
     "name": "stdout",
     "output_type": "stream",
     "text": [
      "Enter the list separated by spaces:5 6\n",
      "squared numbers: [25, 36]\n"
     ]
    }
   ],
   "source": [
    "numbers =  list(map(int,input(\"Enter the list separated by spaces:\").split()))\n",
    "squared_numbers = list(map(lambda x: x**2,numbers))\n",
    "print(\"squared numbers:\",squared_numbers)"
   ]
  },
  {
   "cell_type": "code",
   "execution_count": null,
   "id": "b6f886d5",
   "metadata": {},
   "outputs": [],
   "source": [
    "#Q5 Take the list as a input from user and find the gcd and lcd."
   ]
  },
  {
   "cell_type": "code",
   "execution_count": 23,
   "id": "58fff437",
   "metadata": {},
   "outputs": [
    {
     "name": "stdout",
     "output_type": "stream",
     "text": [
      "Enter numbers separeted by space:4 5 6\n",
      "GCD: 1\n",
      "LCM: 60\n"
     ]
    }
   ],
   "source": [
    "from math import gcd\n",
    "\n",
    "nums = list(map(int,input(\"Enter numbers separeted by space:\").split()))\n",
    "gcd_result = nums[0]\n",
    "lcm_result = nums[0]\n",
    "\n",
    "for num in nums[1:]:\n",
    "    gcd_result = gcd(gcd_result,num)\n",
    "    lcm_result = lcm_result*num//gcd(lcm_result,num)\n",
    "    \n",
    "print(\"GCD:\",gcd_result)\n",
    "print(\"LCM:\",lcm_result)"
   ]
  },
  {
   "cell_type": "code",
   "execution_count": null,
   "id": "c5c88896",
   "metadata": {},
   "outputs": [],
   "source": [
    "#Q6 Write a Python module called “shape”. Write methods for following options in module “shape”a) Calculate area of triangleb) Calculate area of rectanglec) Calculate area of circled) Calculate area of coneUse the module “shape” in python program and test it"
   ]
  },
  {
   "cell_type": "code",
   "execution_count": 1,
   "id": "a4116059",
   "metadata": {},
   "outputs": [
    {
     "name": "stdout",
     "output_type": "stream",
     "text": [
      "Choose a shape to calculate its area:\n",
      "a) Triangle\n",
      "b) Rectangle\n",
      "c) Circle\n",
      "d) Cone\n",
      "Enter your choice: d\n",
      "Enter the radius of the cone: 6\n",
      "Enter the height of the cone: 7\n",
      "Area of the cone: 209.2115889957171\n"
     ]
    }
   ],
   "source": [
    "import math\n",
    "\n",
    "def triangle_area(base, height):\n",
    "    return 0.5 * base * height\n",
    "\n",
    "def rectangle_area(length, width):\n",
    "    return length * width\n",
    "\n",
    "def circle_area(radius):\n",
    "    return math.pi * radius**2\n",
    "\n",
    "def cone_area(radius, height):\n",
    "    base_area = circle_area(radius)\n",
    "    side_area = math.pi * radius * math.sqrt(radius*2 + height*2)\n",
    "    return base_area + side_area\n",
    "\n",
    "def main():\n",
    "    print(\"Choose a shape to calculate its area:\")\n",
    "    print(\"a) Triangle\")\n",
    "    print(\"b) Rectangle\")\n",
    "    print(\"c) Circle\")\n",
    "    print(\"d) Cone\")\n",
    "    \n",
    "    choice = input(\"Enter your choice: \")\n",
    "\n",
    "    if choice == 'a':\n",
    "        base = float(input(\"Enter the base of the triangle: \"))\n",
    "        height = float(input(\"Enter the height of the triangle: \"))\n",
    "        print(\"Area of the triangle:\", triangle_area(base, height))\n",
    "    elif choice == 'b':\n",
    "        length = float(input(\"Enter the length of the rectangle: \"))\n",
    "        width = float(input(\"Enter the width of the rectangle: \"))\n",
    "        print(\"Area of the rectangle:\", rectangle_area(length, width))\n",
    "    elif choice == 'c':\n",
    "        radius = float(input(\"Enter the radius of the circle: \"))\n",
    "        print(\"Area of the circle:\", circle_area(radius))\n",
    "    elif choice == 'd':\n",
    "        radius = float(input(\"Enter the radius of the cone: \"))\n",
    "        height = float(input(\"Enter the height of the cone: \"))\n",
    "        print(\"Area of the cone:\", cone_area(radius, height))\n",
    "    else:\n",
    "        print(\"Invalid choice\")\n",
    "\n",
    "if __name__ == \"__main__\":\n",
    "    main()"
   ]
  },
  {
   "cell_type": "code",
   "execution_count": 1,
   "id": "c3d7dd06",
   "metadata": {},
   "outputs": [],
   "source": [
    "#7 Given a list of non-negative integers nums, arrange them such that they form the largest number and return it.Since the result may be very large, so you need to return a string instead of an integer. "
   ]
  },
  {
   "cell_type": "code",
   "execution_count": 2,
   "id": "d10f9374",
   "metadata": {},
   "outputs": [
    {
     "name": "stdout",
     "output_type": "stream",
     "text": [
      "9534313\n"
     ]
    }
   ],
   "source": [
    "def largestNumber(nums):\n",
    "    nums = list(map(str, nums))\n",
    "    nums.sort(key=lambda x: x*10, reverse=True)  #concatenate with it self\n",
    "    return str(int(''.join(nums)))   # sorted string toghether\n",
    "\n",
    "nums = [3, 13, 34, 5, 9]\n",
    "print(largestNumber(nums)) "
   ]
  },
  {
   "cell_type": "code",
   "execution_count": null,
   "id": "8ad69ea9",
   "metadata": {},
   "outputs": [],
   "source": [
    "#8 Given an array nums containing n distinct numbers in the range [0, n], return the only number in the range that is missing from the array."
   ]
  },
  {
   "cell_type": "code",
   "execution_count": 6,
   "id": "de7a1b3c",
   "metadata": {},
   "outputs": [
    {
     "name": "stdout",
     "output_type": "stream",
     "text": [
      "2\n"
     ]
    }
   ],
   "source": [
    "def missing_number(nums):\n",
    "    n=len(nums)  #cal lenth of input array\n",
    "    total_sum=n * (n + 1) // 2  \n",
    "    array_sum=sum(nums)\n",
    "    return total_sum-array_sum \n",
    "nums = [3, 0, 1]\n",
    "print(missingNumber(nums)) \n"
   ]
  },
  {
   "cell_type": "code",
   "execution_count": 3,
   "id": "e5f9f46f",
   "metadata": {},
   "outputs": [],
   "source": [
    "#Q9 Write a Python Program to implement stack using list."
   ]
  },
  {
   "cell_type": "code",
   "execution_count": 9,
   "id": "2e59991a",
   "metadata": {},
   "outputs": [
    {
     "name": "stdout",
     "output_type": "stream",
     "text": [
      "Initial stack\n",
      "[1, 2, 3]\n",
      "\n",
      "Elements popped from stack:\n",
      "3\n",
      "2\n",
      "1\n",
      "\n",
      "Stack after elements are popped:\n",
      "[]\n"
     ]
    }
   ],
   "source": [
    "stack = []\n",
    " \n",
    "# append() function to push\n",
    "# element in the stack\n",
    "\n",
    "stack.append(1)\n",
    "\n",
    "stack.append(2)\n",
    "\n",
    "stack.append(3)\n",
    " \n",
    "\n",
    "print('Initial stack')\n",
    "\n",
    "print(stack)\n",
    " \n",
    "# last element add in stack\n",
    "# LIFO order\n",
    "\n",
    "print('\\nElements popped from stack:')\n",
    "\n",
    "print(stack.pop())\n",
    "\n",
    "print(stack.pop())\n",
    "\n",
    "print(stack.pop())\n",
    " \n",
    "\n",
    "print('\\nStack after elements are popped:')\n",
    "\n",
    "print(stack)"
   ]
  },
  {
   "cell_type": "code",
   "execution_count": null,
   "id": "d01bf80f",
   "metadata": {},
   "outputs": [],
   "source": []
  }
 ],
 "metadata": {
  "kernelspec": {
   "display_name": "Python 3 (ipykernel)",
   "language": "python",
   "name": "python3"
  },
  "language_info": {
   "codemirror_mode": {
    "name": "ipython",
    "version": 3
   },
   "file_extension": ".py",
   "mimetype": "text/x-python",
   "name": "python",
   "nbconvert_exporter": "python",
   "pygments_lexer": "ipython3",
   "version": "3.9.7"
  }
 },
 "nbformat": 4,
 "nbformat_minor": 5
}
